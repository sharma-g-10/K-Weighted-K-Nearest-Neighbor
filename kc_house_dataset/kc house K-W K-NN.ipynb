{
 "cells": [
  {
   "cell_type": "code",
   "execution_count": 1,
   "metadata": {},
   "outputs": [],
   "source": [
    "import pandas as pd\n",
    "import numpy as np\n",
    "df= pd.read_csv('kc_house_data.csv') \n"
   ]
  },
  {
   "cell_type": "code",
   "execution_count": 2,
   "metadata": {},
   "outputs": [
    {
     "data": {
      "text/html": [
       "<div>\n",
       "<style scoped>\n",
       "    .dataframe tbody tr th:only-of-type {\n",
       "        vertical-align: middle;\n",
       "    }\n",
       "\n",
       "    .dataframe tbody tr th {\n",
       "        vertical-align: top;\n",
       "    }\n",
       "\n",
       "    .dataframe thead th {\n",
       "        text-align: right;\n",
       "    }\n",
       "</style>\n",
       "<table border=\"1\" class=\"dataframe\">\n",
       "  <thead>\n",
       "    <tr style=\"text-align: right;\">\n",
       "      <th></th>\n",
       "      <th>bedrooms</th>\n",
       "      <th>bathrooms</th>\n",
       "      <th>sqft_living</th>\n",
       "      <th>view</th>\n",
       "      <th>grade</th>\n",
       "      <th>sqft_above</th>\n",
       "      <th>sqft_basement</th>\n",
       "      <th>lat</th>\n",
       "      <th>sqft_living15</th>\n",
       "      <th>price</th>\n",
       "    </tr>\n",
       "  </thead>\n",
       "  <tbody>\n",
       "    <tr>\n",
       "      <th>0</th>\n",
       "      <td>3</td>\n",
       "      <td>1.00</td>\n",
       "      <td>1180</td>\n",
       "      <td>0</td>\n",
       "      <td>7</td>\n",
       "      <td>1180</td>\n",
       "      <td>0</td>\n",
       "      <td>47.5112</td>\n",
       "      <td>1340</td>\n",
       "      <td>221900.0</td>\n",
       "    </tr>\n",
       "    <tr>\n",
       "      <th>1</th>\n",
       "      <td>3</td>\n",
       "      <td>2.25</td>\n",
       "      <td>2570</td>\n",
       "      <td>0</td>\n",
       "      <td>7</td>\n",
       "      <td>2170</td>\n",
       "      <td>400</td>\n",
       "      <td>47.7210</td>\n",
       "      <td>1690</td>\n",
       "      <td>538000.0</td>\n",
       "    </tr>\n",
       "    <tr>\n",
       "      <th>2</th>\n",
       "      <td>2</td>\n",
       "      <td>1.00</td>\n",
       "      <td>770</td>\n",
       "      <td>0</td>\n",
       "      <td>6</td>\n",
       "      <td>770</td>\n",
       "      <td>0</td>\n",
       "      <td>47.7379</td>\n",
       "      <td>2720</td>\n",
       "      <td>180000.0</td>\n",
       "    </tr>\n",
       "    <tr>\n",
       "      <th>3</th>\n",
       "      <td>4</td>\n",
       "      <td>3.00</td>\n",
       "      <td>1960</td>\n",
       "      <td>0</td>\n",
       "      <td>7</td>\n",
       "      <td>1050</td>\n",
       "      <td>910</td>\n",
       "      <td>47.5208</td>\n",
       "      <td>1360</td>\n",
       "      <td>604000.0</td>\n",
       "    </tr>\n",
       "    <tr>\n",
       "      <th>4</th>\n",
       "      <td>3</td>\n",
       "      <td>2.00</td>\n",
       "      <td>1680</td>\n",
       "      <td>0</td>\n",
       "      <td>8</td>\n",
       "      <td>1680</td>\n",
       "      <td>0</td>\n",
       "      <td>47.6168</td>\n",
       "      <td>1800</td>\n",
       "      <td>510000.0</td>\n",
       "    </tr>\n",
       "  </tbody>\n",
       "</table>\n",
       "</div>"
      ],
      "text/plain": [
       "   bedrooms  bathrooms  sqft_living  view  grade  sqft_above  sqft_basement  \\\n",
       "0         3       1.00         1180     0      7        1180              0   \n",
       "1         3       2.25         2570     0      7        2170            400   \n",
       "2         2       1.00          770     0      6         770              0   \n",
       "3         4       3.00         1960     0      7        1050            910   \n",
       "4         3       2.00         1680     0      8        1680              0   \n",
       "\n",
       "       lat  sqft_living15     price  \n",
       "0  47.5112           1340  221900.0  \n",
       "1  47.7210           1690  538000.0  \n",
       "2  47.7379           2720  180000.0  \n",
       "3  47.5208           1360  604000.0  \n",
       "4  47.6168           1800  510000.0  "
      ]
     },
     "execution_count": 2,
     "metadata": {},
     "output_type": "execute_result"
    }
   ],
   "source": [
    "df.drop(['id'] , axis = 1 , inplace = True)\n",
    "df.drop_duplicates(keep = 'first',inplace = True)\n",
    "df.drop(['date'] , axis = 1 , inplace = True)\n",
    "df = df[['bedrooms','bathrooms','sqft_living','view','grade','sqft_above','sqft_basement','lat','sqft_living15' ,'price']]\n",
    "df.head()"
   ]
  },
  {
   "cell_type": "code",
   "execution_count": 3,
   "metadata": {},
   "outputs": [
    {
     "data": {
      "text/plain": [
       "(21613, 10)"
      ]
     },
     "execution_count": 3,
     "metadata": {},
     "output_type": "execute_result"
    }
   ],
   "source": [
    "df.shape"
   ]
  },
  {
   "cell_type": "code",
   "execution_count": 4,
   "metadata": {},
   "outputs": [],
   "source": [
    "X = df.iloc[:,:-1].values\n",
    "y = df.iloc[:,-1].values"
   ]
  },
  {
   "cell_type": "code",
   "execution_count": 5,
   "metadata": {},
   "outputs": [
    {
     "data": {
      "text/plain": [
       "(21613, 9)"
      ]
     },
     "execution_count": 5,
     "metadata": {},
     "output_type": "execute_result"
    }
   ],
   "source": [
    "X.shape"
   ]
  },
  {
   "cell_type": "code",
   "execution_count": 6,
   "metadata": {},
   "outputs": [],
   "source": [
    "from sklearn.model_selection import train_test_split\n",
    "X_train, X_test, y_train, y_test = train_test_split(X, y, test_size = 0.2, random_state = 0)"
   ]
  },
  {
   "cell_type": "code",
   "execution_count": 7,
   "metadata": {},
   "outputs": [],
   "source": [
    "import numpy as np\n",
    "mu = np.mean(X_train, 0)\n",
    "sigma = np.std(X_train, 0)\n",
    "\n",
    "X_train = (X_train - mu ) / sigma\n",
    "\n",
    "#We use the same mean and SD as the one of X_train as we dont know the mean of X_test\n",
    "X_test = (X_test - mu ) / sigma\n",
    "\n",
    "#Standardizing the y_train data\n",
    "mu_y = np.mean(y_train, 0)\n",
    "sigma_y = np.std(y_train, 0, ddof = 0)\n",
    "\n",
    "y_train = (y_train - mu_y ) / sigma_y"
   ]
  },
  {
   "cell_type": "code",
   "execution_count": 8,
   "metadata": {},
   "outputs": [
    {
     "data": {
      "text/plain": [
       "((17290, 1), (4323, 1), (4323, 1))"
      ]
     },
     "execution_count": 8,
     "metadata": {},
     "output_type": "execute_result"
    }
   ],
   "source": [
    "y_train = y_train.reshape(len(y_train),1)\n",
    "y_test = y_test.reshape(len(y_test),1)\n",
    "y_pred = np.zeros(y_test.shape)\n",
    "y_train.shape, y_test.shape,y_pred.shape"
   ]
  },
  {
   "cell_type": "code",
   "execution_count": 15,
   "metadata": {},
   "outputs": [
    {
     "name": "stdout",
     "output_type": "stream",
     "text": [
      "For k =  1   56889707805.099464\n",
      "For k =  2   40909234324.95605\n",
      "For k =  3   36442402851.33008\n",
      "For k =  4   34198055460.33652\n",
      "For k =  5   33027025581.12999\n",
      "For k =  6   32069878842.264957\n",
      "For k =  7   31412430308.061516\n",
      "For k =  8   30926120753.941166\n",
      "For k =  9   30529734640.984573\n",
      "For k =  10   30181548820.62801\n",
      "For k =  11   29951801976.739067\n",
      "For k =  12   29814870968.503967\n",
      "For k =  13   29745614012.891678\n",
      "For k =  14   29720526258.22026\n",
      "For k =  15   29677358671.728416\n",
      "For k =  16   29662346883.282825\n",
      "For k =  17   29678505681.27026\n",
      "For k =  18   29689578685.177265\n",
      "For k =  19   29702919693.14742\n",
      "For k =  20   29735507466.654552\n",
      "For k =  21   29792933677.283577\n",
      "For k =  22   29823591761.36316\n",
      "For k =  23   29854651585.172585\n",
      "For k =  24   29899347888.41968\n",
      "For k =  25   29951724031.614765\n",
      "For k =  26   30007259333.383915\n",
      "For k =  27   30064430871.39586\n",
      "For k =  28   30117163546.91595\n",
      "For k =  29   30174897459.276848\n",
      "For k =  30   30234250117.214043\n",
      "For k =  31   30299564522.007782\n",
      "For k =  32   30362968064.64365\n",
      "For k =  33   30421819500.815723\n",
      "For k =  34   30477639528.68364\n",
      "For k =  35   30526401604.53269\n",
      "For k =  36   30569972995.943207\n",
      "For k =  37   30611889410.377304\n",
      "For k =  38   30651328327.4963\n",
      "For k =  39   30688502220.078186\n"
     ]
    }
   ],
   "source": [
    "error_rate = []\n",
    "\n",
    "for i in range(1,40):\n",
    "    for row in range(len(X_test)):\n",
    "        weighted_points = np.zeros(i)\n",
    "        sum1 = 0\n",
    "        euclidian_distance = np.sqrt(np.sum((X_train - X_test[row])**2, axis = 1 ))\n",
    "        sorted_distance = euclidian_distance[np.argsort(euclidian_distance, axis = 0)[:i]]\n",
    "        closest_points = y_train[np.argsort(euclidian_distance, axis = 0)[:i]]\n",
    "        j = 0\n",
    "        for k in range(i,0,-1):\n",
    "            weighted_points[j] = closest_points[j]*k\n",
    "            j += 1\n",
    "            sum1 += k\n",
    "\n",
    "        y_pred[row] = sum(weighted_points)/sum1* sigma_y + mu_y\n",
    "    \n",
    "    from sklearn.metrics import mean_squared_error\n",
    "    a = mean_squared_error(y_test, y_pred)\n",
    "    print('For k = ',i,\" \",a)\n",
    "    error_rate.append(a)."
   ]
  },
  {
   "cell_type": "code",
   "execution_count": 24,
   "metadata": {},
   "outputs": [
    {
     "data": {
      "text/plain": [
       "Text(0, 0.5, 'Error Rate')"
      ]
     },
     "execution_count": 24,
     "metadata": {},
     "output_type": "execute_result"
    },
    {
     "data": {
      "image/png": "[encoded data removed]",
      "text/plain": [
       "<Figure size 576x432 with 1 Axes>"
      ]
     },
     "metadata": {
      "needs_background": "light"
     },
     "output_type": "display_data"
    }
   ],
   "source": [
    "import matplotlib.pyplot as plt\n",
    "plt.figure(figsize=(8,6))\n",
    "plt.plot(range(1,40),error_rate,color='blue', linestyle='dashed', marker='o',\n",
    " markerfacecolor='red', markersize=10)\n",
    "plt.title('Error vs. K Value')\n",
    "plt.xlabel('K')\n",
    "plt.ylabel('Error Rate')"
   ]
  },
  {
   "cell_type": "code",
   "execution_count": 21,
   "metadata": {},
   "outputs": [],
   "source": [
    "n_neigh = 18\n",
    "\n",
    "for row in range(len(X_test)):\n",
    "    weighted_points = np.zeros(n_neigh)\n",
    "    sum1 = 0\n",
    "    euclidian_distance = np.sqrt(np.sum((X_train - X_test[row])**2, axis = 1 ))\n",
    "    sorted_distance = euclidian_distance[np.argsort(euclidian_distance, axis = 0)[:n_neigh]]\n",
    "    closest_points = y_train[np.argsort(euclidian_distance, axis = 0)[:n_neigh]]\n",
    "    j = 0\n",
    "    for i in range(n_neigh,0,-1):\n",
    "        weighted_points[j] = closest_points[j]*i\n",
    "        j += 1\n",
    "        sum1 += i\n",
    "    \n",
    "    y_pred[row] = sum(weighted_points)/sum1* sigma_y + mu_y"
   ]
  },
  {
   "cell_type": "code",
   "execution_count": 22,
   "metadata": {},
   "outputs": [
    {
     "data": {
      "text/plain": [
       "0.750348866040803"
      ]
     },
     "execution_count": 22,
     "metadata": {},
     "output_type": "execute_result"
    }
   ],
   "source": [
    "from sklearn.metrics import r2_score\n",
    "r2_score(y_test, y_pred)\n"
   ]
  },
  {
   "cell_type": "code",
   "execution_count": 23,
   "metadata": {},
   "outputs": [
    {
     "data": {
      "text/plain": [
       "29689578685.177265"
      ]
     },
     "execution_count": 23,
     "metadata": {},
     "output_type": "execute_result"
    }
   ],
   "source": [
    "from sklearn.metrics import mean_squared_error\n",
    "mean_squared_error(y_test, y_pred)"
   ]
  },
  {
   "cell_type": "code",
   "execution_count": null,
   "metadata": {},
   "outputs": [],
   "source": []
  }
 ],
 "metadata": {
  "kernelspec": {
   "display_name": "Python 3",
   "language": "python",
   "name": "python3"
  },
  "language_info": {
   "codemirror_mode": {
    "name": "ipython",
    "version": 3
   },
   "file_extension": ".py",
   "mimetype": "text/x-python",
   "name": "python",
   "nbconvert_exporter": "python",
   "pygments_lexer": "ipython3",
   "version": "3.8.5"
  }
 },
 "nbformat": 4,
 "nbformat_minor": 4
}
