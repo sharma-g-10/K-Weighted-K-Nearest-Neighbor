{
 "cells": [
  {
   "cell_type": "code",
   "execution_count": null,
   "metadata": {},
   "outputs": [],
   "source": [
    "error_rate = []\n",
    "\n",
    "for i in range(1,40):\n",
    "    for row in range(len(X_test)):\n",
    "        weighted_points = np.zeros(i)\n",
    "        sum1 = 0\n",
    "        euclidian_distance = np.sqrt(np.sum((X_train - X_test[row])**2, axis = 1 ))\n",
    "        sorted_distance = euclidian_distance[np.argsort(euclidian_distance, axis = 0)[:i]]\n",
    "        closest_points = y_train[np.argsort(euclidian_distance, axis = 0)[:i]]\n",
    "        j = 0\n",
    "        for k in range(i,0,-1):\n",
    "            weighted_points[j] = closest_points[j]*k\n",
    "            j += 1\n",
    "            sum1 += k\n",
    "\n",
    "        y_pred[row] = sum(weighted_points)/sum1* sigma_y + mu_y\n",
    "    \n",
    "    from sklearn.metrics import mean_squared_error\n",
    "    a = mean_squared_error(y_test, y_pred)\n",
    "    print('For k = ',i,\" \",a)\n",
    "    error_rate.append(a)."
   ]
  },
  {
   "cell_type": "code",
   "execution_count": null,
   "metadata": {},
   "outputs": [],
   "source": [
    "import matplotlib.pyplot as plt\n",
    "plt.figure(figsize=(8,6))\n",
    "plt.plot(range(1,40),error_rate,color='blue', linestyle='dashed', marker='o',\n",
    " markerfacecolor='red', markersize=10)\n",
    "plt.title('Error vs. K Value')\n",
    "plt.xlabel('K')\n",
    "plt.ylabel('Error Rate')"
   ]
  }
 ],
 "metadata": {
  "kernelspec": {
   "display_name": "Python 3",
   "language": "python",
   "name": "python3"
  },
  "language_info": {
   "codemirror_mode": {
    "name": "ipython",
    "version": 3
   },
   "file_extension": ".py",
   "mimetype": "text/x-python",
   "name": "python",
   "nbconvert_exporter": "python",
   "pygments_lexer": "ipython3",
   "version": "3.8.5"
  }
 },
 "nbformat": 4,
 "nbformat_minor": 4
}
