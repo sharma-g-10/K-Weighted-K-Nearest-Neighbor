{
 "cells": [
  {
   "cell_type": "code",
   "execution_count": 1,
   "metadata": {},
   "outputs": [],
   "source": [
    "import pandas as pd\n",
    "import numpy as np\n"
   ]
  },
  {
   "cell_type": "code",
   "execution_count": 2,
   "metadata": {},
   "outputs": [
    {
     "name": "stderr",
     "output_type": "stream",
     "text": [
      "C:\\Users\\Naveen\\anaconda3\\lib\\site-packages\\IPython\\core\\interactiveshell.py:3146: DtypeWarning: Columns (15) have mixed types.Specify dtype option on import or set low_memory=False.\n",
      "  has_raised = await self.run_ast_nodes(code_ast.body, cell_name,\n"
     ]
    }
   ],
   "source": [
    "df = pd.read_csv('station_hour.csv')"
   ]
  },
  {
   "cell_type": "code",
   "execution_count": 3,
   "metadata": {},
   "outputs": [],
   "source": [
    "df = df.dropna()"
   ]
  },
  {
   "cell_type": "code",
   "execution_count": 4,
   "metadata": {},
   "outputs": [
    {
     "data": {
      "text/plain": [
       "(203693, 16)"
      ]
     },
     "execution_count": 4,
     "metadata": {},
     "output_type": "execute_result"
    }
   ],
   "source": [
    "df.shape"
   ]
  },
  {
   "cell_type": "code",
   "execution_count": 5,
   "metadata": {},
   "outputs": [
    {
     "data": {
      "text/html": [
       "<div>\n",
       "<style scoped>\n",
       "    .dataframe tbody tr th:only-of-type {\n",
       "        vertical-align: middle;\n",
       "    }\n",
       "\n",
       "    .dataframe tbody tr th {\n",
       "        vertical-align: top;\n",
       "    }\n",
       "\n",
       "    .dataframe thead th {\n",
       "        text-align: right;\n",
       "    }\n",
       "</style>\n",
       "<table border=\"1\" class=\"dataframe\">\n",
       "  <thead>\n",
       "    <tr style=\"text-align: right;\">\n",
       "      <th></th>\n",
       "      <th>StationId</th>\n",
       "      <th>Datetime</th>\n",
       "      <th>PM2.5</th>\n",
       "      <th>PM10</th>\n",
       "      <th>NO</th>\n",
       "      <th>NO2</th>\n",
       "      <th>NOx</th>\n",
       "      <th>NH3</th>\n",
       "      <th>CO</th>\n",
       "      <th>SO2</th>\n",
       "      <th>O3</th>\n",
       "      <th>Benzene</th>\n",
       "      <th>Toluene</th>\n",
       "      <th>Xylene</th>\n",
       "      <th>AQI</th>\n",
       "      <th>AQI_Bucket</th>\n",
       "    </tr>\n",
       "  </thead>\n",
       "  <tbody>\n",
       "    <tr>\n",
       "      <th>16</th>\n",
       "      <td>AP001</td>\n",
       "      <td>2017-11-25 09:00:00</td>\n",
       "      <td>104.00</td>\n",
       "      <td>148.50</td>\n",
       "      <td>1.93</td>\n",
       "      <td>23.00</td>\n",
       "      <td>13.75</td>\n",
       "      <td>9.80</td>\n",
       "      <td>0.1</td>\n",
       "      <td>15.30</td>\n",
       "      <td>117.62</td>\n",
       "      <td>0.30</td>\n",
       "      <td>10.40</td>\n",
       "      <td>0.23</td>\n",
       "      <td>155.0</td>\n",
       "      <td>Moderate</td>\n",
       "    </tr>\n",
       "    <tr>\n",
       "      <th>17</th>\n",
       "      <td>AP001</td>\n",
       "      <td>2017-11-25 10:00:00</td>\n",
       "      <td>94.50</td>\n",
       "      <td>142.00</td>\n",
       "      <td>1.33</td>\n",
       "      <td>16.25</td>\n",
       "      <td>9.75</td>\n",
       "      <td>9.65</td>\n",
       "      <td>0.1</td>\n",
       "      <td>17.00</td>\n",
       "      <td>136.23</td>\n",
       "      <td>0.28</td>\n",
       "      <td>7.10</td>\n",
       "      <td>0.15</td>\n",
       "      <td>159.0</td>\n",
       "      <td>Moderate</td>\n",
       "    </tr>\n",
       "    <tr>\n",
       "      <th>18</th>\n",
       "      <td>AP001</td>\n",
       "      <td>2017-11-25 11:00:00</td>\n",
       "      <td>82.75</td>\n",
       "      <td>126.50</td>\n",
       "      <td>1.47</td>\n",
       "      <td>14.83</td>\n",
       "      <td>9.07</td>\n",
       "      <td>9.70</td>\n",
       "      <td>0.1</td>\n",
       "      <td>15.40</td>\n",
       "      <td>149.92</td>\n",
       "      <td>0.20</td>\n",
       "      <td>4.55</td>\n",
       "      <td>0.08</td>\n",
       "      <td>173.0</td>\n",
       "      <td>Moderate</td>\n",
       "    </tr>\n",
       "    <tr>\n",
       "      <th>21</th>\n",
       "      <td>AP001</td>\n",
       "      <td>2017-11-25 14:00:00</td>\n",
       "      <td>68.50</td>\n",
       "      <td>117.00</td>\n",
       "      <td>1.35</td>\n",
       "      <td>13.60</td>\n",
       "      <td>8.35</td>\n",
       "      <td>7.40</td>\n",
       "      <td>0.1</td>\n",
       "      <td>21.80</td>\n",
       "      <td>161.70</td>\n",
       "      <td>0.10</td>\n",
       "      <td>2.30</td>\n",
       "      <td>0.00</td>\n",
       "      <td>191.0</td>\n",
       "      <td>Moderate</td>\n",
       "    </tr>\n",
       "    <tr>\n",
       "      <th>22</th>\n",
       "      <td>AP001</td>\n",
       "      <td>2017-11-25 15:00:00</td>\n",
       "      <td>69.25</td>\n",
       "      <td>112.25</td>\n",
       "      <td>1.52</td>\n",
       "      <td>11.80</td>\n",
       "      <td>7.55</td>\n",
       "      <td>9.25</td>\n",
       "      <td>0.1</td>\n",
       "      <td>21.38</td>\n",
       "      <td>161.68</td>\n",
       "      <td>0.10</td>\n",
       "      <td>2.35</td>\n",
       "      <td>0.00</td>\n",
       "      <td>191.0</td>\n",
       "      <td>Moderate</td>\n",
       "    </tr>\n",
       "  </tbody>\n",
       "</table>\n",
       "</div>"
      ],
      "text/plain": [
       "   StationId             Datetime   PM2.5    PM10    NO    NO2    NOx   NH3  \\\n",
       "16     AP001  2017-11-25 09:00:00  104.00  148.50  1.93  23.00  13.75  9.80   \n",
       "17     AP001  2017-11-25 10:00:00   94.50  142.00  1.33  16.25   9.75  9.65   \n",
       "18     AP001  2017-11-25 11:00:00   82.75  126.50  1.47  14.83   9.07  9.70   \n",
       "21     AP001  2017-11-25 14:00:00   68.50  117.00  1.35  13.60   8.35  7.40   \n",
       "22     AP001  2017-11-25 15:00:00   69.25  112.25  1.52  11.80   7.55  9.25   \n",
       "\n",
       "     CO    SO2      O3  Benzene  Toluene  Xylene    AQI AQI_Bucket  \n",
       "16  0.1  15.30  117.62     0.30    10.40    0.23  155.0   Moderate  \n",
       "17  0.1  17.00  136.23     0.28     7.10    0.15  159.0   Moderate  \n",
       "18  0.1  15.40  149.92     0.20     4.55    0.08  173.0   Moderate  \n",
       "21  0.1  21.80  161.70     0.10     2.30    0.00  191.0   Moderate  \n",
       "22  0.1  21.38  161.68     0.10     2.35    0.00  191.0   Moderate  "
      ]
     },
     "execution_count": 5,
     "metadata": {},
     "output_type": "execute_result"
    }
   ],
   "source": [
    "df.head()"
   ]
  },
  {
   "cell_type": "code",
   "execution_count": 6,
   "metadata": {},
   "outputs": [
    {
     "data": {
      "text/html": [
       "<div>\n",
       "<style scoped>\n",
       "    .dataframe tbody tr th:only-of-type {\n",
       "        vertical-align: middle;\n",
       "    }\n",
       "\n",
       "    .dataframe tbody tr th {\n",
       "        vertical-align: top;\n",
       "    }\n",
       "\n",
       "    .dataframe thead th {\n",
       "        text-align: right;\n",
       "    }\n",
       "</style>\n",
       "<table border=\"1\" class=\"dataframe\">\n",
       "  <thead>\n",
       "    <tr style=\"text-align: right;\">\n",
       "      <th></th>\n",
       "      <th>PM2.5</th>\n",
       "      <th>PM10</th>\n",
       "      <th>NO</th>\n",
       "      <th>NO2</th>\n",
       "      <th>NOx</th>\n",
       "      <th>NH3</th>\n",
       "      <th>CO</th>\n",
       "      <th>SO2</th>\n",
       "      <th>O3</th>\n",
       "      <th>Benzene</th>\n",
       "      <th>Toluene</th>\n",
       "      <th>Xylene</th>\n",
       "      <th>AQI</th>\n",
       "    </tr>\n",
       "  </thead>\n",
       "  <tbody>\n",
       "    <tr>\n",
       "      <th>PM2.5</th>\n",
       "      <td>1.000000</td>\n",
       "      <td>0.847882</td>\n",
       "      <td>0.350274</td>\n",
       "      <td>0.471717</td>\n",
       "      <td>0.460089</td>\n",
       "      <td>0.282144</td>\n",
       "      <td>0.482322</td>\n",
       "      <td>0.162077</td>\n",
       "      <td>-0.043815</td>\n",
       "      <td>0.118233</td>\n",
       "      <td>0.208731</td>\n",
       "      <td>0.119178</td>\n",
       "      <td>0.786344</td>\n",
       "    </tr>\n",
       "    <tr>\n",
       "      <th>PM10</th>\n",
       "      <td>0.847882</td>\n",
       "      <td>1.000000</td>\n",
       "      <td>0.349677</td>\n",
       "      <td>0.507047</td>\n",
       "      <td>0.480890</td>\n",
       "      <td>0.273858</td>\n",
       "      <td>0.476773</td>\n",
       "      <td>0.195957</td>\n",
       "      <td>-0.050060</td>\n",
       "      <td>0.124158</td>\n",
       "      <td>0.217442</td>\n",
       "      <td>0.140978</td>\n",
       "      <td>0.757663</td>\n",
       "    </tr>\n",
       "    <tr>\n",
       "      <th>NO</th>\n",
       "      <td>0.350274</td>\n",
       "      <td>0.349677</td>\n",
       "      <td>1.000000</td>\n",
       "      <td>0.334167</td>\n",
       "      <td>0.869167</td>\n",
       "      <td>0.121156</td>\n",
       "      <td>0.452428</td>\n",
       "      <td>0.012008</td>\n",
       "      <td>-0.182378</td>\n",
       "      <td>0.326802</td>\n",
       "      <td>0.268071</td>\n",
       "      <td>0.140198</td>\n",
       "      <td>0.288469</td>\n",
       "    </tr>\n",
       "    <tr>\n",
       "      <th>NO2</th>\n",
       "      <td>0.471717</td>\n",
       "      <td>0.507047</td>\n",
       "      <td>0.334167</td>\n",
       "      <td>1.000000</td>\n",
       "      <td>0.661776</td>\n",
       "      <td>0.249797</td>\n",
       "      <td>0.435610</td>\n",
       "      <td>0.152927</td>\n",
       "      <td>-0.181512</td>\n",
       "      <td>0.124333</td>\n",
       "      <td>0.304510</td>\n",
       "      <td>0.227683</td>\n",
       "      <td>0.441733</td>\n",
       "    </tr>\n",
       "    <tr>\n",
       "      <th>NOx</th>\n",
       "      <td>0.460089</td>\n",
       "      <td>0.480890</td>\n",
       "      <td>0.869167</td>\n",
       "      <td>0.661776</td>\n",
       "      <td>1.000000</td>\n",
       "      <td>0.206121</td>\n",
       "      <td>0.531523</td>\n",
       "      <td>0.057293</td>\n",
       "      <td>-0.222290</td>\n",
       "      <td>0.372315</td>\n",
       "      <td>0.346906</td>\n",
       "      <td>0.194476</td>\n",
       "      <td>0.426584</td>\n",
       "    </tr>\n",
       "    <tr>\n",
       "      <th>NH3</th>\n",
       "      <td>0.282144</td>\n",
       "      <td>0.273858</td>\n",
       "      <td>0.121156</td>\n",
       "      <td>0.249797</td>\n",
       "      <td>0.206121</td>\n",
       "      <td>1.000000</td>\n",
       "      <td>0.163425</td>\n",
       "      <td>0.188046</td>\n",
       "      <td>-0.059098</td>\n",
       "      <td>0.073616</td>\n",
       "      <td>0.063883</td>\n",
       "      <td>0.029148</td>\n",
       "      <td>0.283593</td>\n",
       "    </tr>\n",
       "    <tr>\n",
       "      <th>CO</th>\n",
       "      <td>0.482322</td>\n",
       "      <td>0.476773</td>\n",
       "      <td>0.452428</td>\n",
       "      <td>0.435610</td>\n",
       "      <td>0.531523</td>\n",
       "      <td>0.163425</td>\n",
       "      <td>1.000000</td>\n",
       "      <td>0.113498</td>\n",
       "      <td>-0.137411</td>\n",
       "      <td>0.198691</td>\n",
       "      <td>0.221141</td>\n",
       "      <td>0.162400</td>\n",
       "      <td>0.432508</td>\n",
       "    </tr>\n",
       "    <tr>\n",
       "      <th>SO2</th>\n",
       "      <td>0.162077</td>\n",
       "      <td>0.195957</td>\n",
       "      <td>0.012008</td>\n",
       "      <td>0.152927</td>\n",
       "      <td>0.057293</td>\n",
       "      <td>0.188046</td>\n",
       "      <td>0.113498</td>\n",
       "      <td>1.000000</td>\n",
       "      <td>0.076843</td>\n",
       "      <td>-0.006602</td>\n",
       "      <td>0.107354</td>\n",
       "      <td>0.095866</td>\n",
       "      <td>0.135806</td>\n",
       "    </tr>\n",
       "    <tr>\n",
       "      <th>O3</th>\n",
       "      <td>-0.043815</td>\n",
       "      <td>-0.050060</td>\n",
       "      <td>-0.182378</td>\n",
       "      <td>-0.181512</td>\n",
       "      <td>-0.222290</td>\n",
       "      <td>-0.059098</td>\n",
       "      <td>-0.137411</td>\n",
       "      <td>0.076843</td>\n",
       "      <td>1.000000</td>\n",
       "      <td>-0.110100</td>\n",
       "      <td>-0.121331</td>\n",
       "      <td>-0.074684</td>\n",
       "      <td>0.094589</td>\n",
       "    </tr>\n",
       "    <tr>\n",
       "      <th>Benzene</th>\n",
       "      <td>0.118233</td>\n",
       "      <td>0.124158</td>\n",
       "      <td>0.326802</td>\n",
       "      <td>0.124333</td>\n",
       "      <td>0.372315</td>\n",
       "      <td>0.073616</td>\n",
       "      <td>0.198691</td>\n",
       "      <td>-0.006602</td>\n",
       "      <td>-0.110100</td>\n",
       "      <td>1.000000</td>\n",
       "      <td>0.631691</td>\n",
       "      <td>0.146465</td>\n",
       "      <td>0.125644</td>\n",
       "    </tr>\n",
       "    <tr>\n",
       "      <th>Toluene</th>\n",
       "      <td>0.208731</td>\n",
       "      <td>0.217442</td>\n",
       "      <td>0.268071</td>\n",
       "      <td>0.304510</td>\n",
       "      <td>0.346906</td>\n",
       "      <td>0.063883</td>\n",
       "      <td>0.221141</td>\n",
       "      <td>0.107354</td>\n",
       "      <td>-0.121331</td>\n",
       "      <td>0.631691</td>\n",
       "      <td>1.000000</td>\n",
       "      <td>0.455891</td>\n",
       "      <td>0.169872</td>\n",
       "    </tr>\n",
       "    <tr>\n",
       "      <th>Xylene</th>\n",
       "      <td>0.119178</td>\n",
       "      <td>0.140978</td>\n",
       "      <td>0.140198</td>\n",
       "      <td>0.227683</td>\n",
       "      <td>0.194476</td>\n",
       "      <td>0.029148</td>\n",
       "      <td>0.162400</td>\n",
       "      <td>0.095866</td>\n",
       "      <td>-0.074684</td>\n",
       "      <td>0.146465</td>\n",
       "      <td>0.455891</td>\n",
       "      <td>1.000000</td>\n",
       "      <td>0.090680</td>\n",
       "    </tr>\n",
       "    <tr>\n",
       "      <th>AQI</th>\n",
       "      <td>0.786344</td>\n",
       "      <td>0.757663</td>\n",
       "      <td>0.288469</td>\n",
       "      <td>0.441733</td>\n",
       "      <td>0.426584</td>\n",
       "      <td>0.283593</td>\n",
       "      <td>0.432508</td>\n",
       "      <td>0.135806</td>\n",
       "      <td>0.094589</td>\n",
       "      <td>0.125644</td>\n",
       "      <td>0.169872</td>\n",
       "      <td>0.090680</td>\n",
       "      <td>1.000000</td>\n",
       "    </tr>\n",
       "  </tbody>\n",
       "</table>\n",
       "</div>"
      ],
      "text/plain": [
       "            PM2.5      PM10        NO       NO2       NOx       NH3        CO  \\\n",
       "PM2.5    1.000000  0.847882  0.350274  0.471717  0.460089  0.282144  0.482322   \n",
       "PM10     0.847882  1.000000  0.349677  0.507047  0.480890  0.273858  0.476773   \n",
       "NO       0.350274  0.349677  1.000000  0.334167  0.869167  0.121156  0.452428   \n",
       "NO2      0.471717  0.507047  0.334167  1.000000  0.661776  0.249797  0.435610   \n",
       "NOx      0.460089  0.480890  0.869167  0.661776  1.000000  0.206121  0.531523   \n",
       "NH3      0.282144  0.273858  0.121156  0.249797  0.206121  1.000000  0.163425   \n",
       "CO       0.482322  0.476773  0.452428  0.435610  0.531523  0.163425  1.000000   \n",
       "SO2      0.162077  0.195957  0.012008  0.152927  0.057293  0.188046  0.113498   \n",
       "O3      -0.043815 -0.050060 -0.182378 -0.181512 -0.222290 -0.059098 -0.137411   \n",
       "Benzene  0.118233  0.124158  0.326802  0.124333  0.372315  0.073616  0.198691   \n",
       "Toluene  0.208731  0.217442  0.268071  0.304510  0.346906  0.063883  0.221141   \n",
       "Xylene   0.119178  0.140978  0.140198  0.227683  0.194476  0.029148  0.162400   \n",
       "AQI      0.786344  0.757663  0.288469  0.441733  0.426584  0.283593  0.432508   \n",
       "\n",
       "              SO2        O3   Benzene   Toluene    Xylene       AQI  \n",
       "PM2.5    0.162077 -0.043815  0.118233  0.208731  0.119178  0.786344  \n",
       "PM10     0.195957 -0.050060  0.124158  0.217442  0.140978  0.757663  \n",
       "NO       0.012008 -0.182378  0.326802  0.268071  0.140198  0.288469  \n",
       "NO2      0.152927 -0.181512  0.124333  0.304510  0.227683  0.441733  \n",
       "NOx      0.057293 -0.222290  0.372315  0.346906  0.194476  0.426584  \n",
       "NH3      0.188046 -0.059098  0.073616  0.063883  0.029148  0.283593  \n",
       "CO       0.113498 -0.137411  0.198691  0.221141  0.162400  0.432508  \n",
       "SO2      1.000000  0.076843 -0.006602  0.107354  0.095866  0.135806  \n",
       "O3       0.076843  1.000000 -0.110100 -0.121331 -0.074684  0.094589  \n",
       "Benzene -0.006602 -0.110100  1.000000  0.631691  0.146465  0.125644  \n",
       "Toluene  0.107354 -0.121331  0.631691  1.000000  0.455891  0.169872  \n",
       "Xylene   0.095866 -0.074684  0.146465  0.455891  1.000000  0.090680  \n",
       "AQI      0.135806  0.094589  0.125644  0.169872  0.090680  1.000000  "
      ]
     },
     "execution_count": 6,
     "metadata": {},
     "output_type": "execute_result"
    }
   ],
   "source": [
    "df.corr()"
   ]
  },
  {
   "cell_type": "code",
   "execution_count": 7,
   "metadata": {},
   "outputs": [],
   "source": [
    "df=df[['PM2.5','PM10','NO2','NOx','CO','AQI']]"
   ]
  },
  {
   "cell_type": "code",
   "execution_count": 8,
   "metadata": {},
   "outputs": [],
   "source": [
    "df = df.head(50000)"
   ]
  },
  {
   "cell_type": "code",
   "execution_count": 39,
   "metadata": {},
   "outputs": [
    {
     "data": {
      "text/html": [
       "<div>\n",
       "<style scoped>\n",
       "    .dataframe tbody tr th:only-of-type {\n",
       "        vertical-align: middle;\n",
       "    }\n",
       "\n",
       "    .dataframe tbody tr th {\n",
       "        vertical-align: top;\n",
       "    }\n",
       "\n",
       "    .dataframe thead th {\n",
       "        text-align: right;\n",
       "    }\n",
       "</style>\n",
       "<table border=\"1\" class=\"dataframe\">\n",
       "  <thead>\n",
       "    <tr style=\"text-align: right;\">\n",
       "      <th></th>\n",
       "      <th>PM2.5</th>\n",
       "      <th>PM10</th>\n",
       "      <th>NO2</th>\n",
       "      <th>NOx</th>\n",
       "      <th>CO</th>\n",
       "      <th>AQI</th>\n",
       "    </tr>\n",
       "  </thead>\n",
       "  <tbody>\n",
       "    <tr>\n",
       "      <th>16</th>\n",
       "      <td>104.00</td>\n",
       "      <td>148.50</td>\n",
       "      <td>23.00</td>\n",
       "      <td>13.75</td>\n",
       "      <td>0.1</td>\n",
       "      <td>155.0</td>\n",
       "    </tr>\n",
       "    <tr>\n",
       "      <th>17</th>\n",
       "      <td>94.50</td>\n",
       "      <td>142.00</td>\n",
       "      <td>16.25</td>\n",
       "      <td>9.75</td>\n",
       "      <td>0.1</td>\n",
       "      <td>159.0</td>\n",
       "    </tr>\n",
       "    <tr>\n",
       "      <th>18</th>\n",
       "      <td>82.75</td>\n",
       "      <td>126.50</td>\n",
       "      <td>14.83</td>\n",
       "      <td>9.07</td>\n",
       "      <td>0.1</td>\n",
       "      <td>173.0</td>\n",
       "    </tr>\n",
       "    <tr>\n",
       "      <th>21</th>\n",
       "      <td>68.50</td>\n",
       "      <td>117.00</td>\n",
       "      <td>13.60</td>\n",
       "      <td>8.35</td>\n",
       "      <td>0.1</td>\n",
       "      <td>191.0</td>\n",
       "    </tr>\n",
       "    <tr>\n",
       "      <th>22</th>\n",
       "      <td>69.25</td>\n",
       "      <td>112.25</td>\n",
       "      <td>11.80</td>\n",
       "      <td>7.55</td>\n",
       "      <td>0.1</td>\n",
       "      <td>191.0</td>\n",
       "    </tr>\n",
       "  </tbody>\n",
       "</table>\n",
       "</div>"
      ],
      "text/plain": [
       "     PM2.5    PM10    NO2    NOx   CO    AQI\n",
       "16  104.00  148.50  23.00  13.75  0.1  155.0\n",
       "17   94.50  142.00  16.25   9.75  0.1  159.0\n",
       "18   82.75  126.50  14.83   9.07  0.1  173.0\n",
       "21   68.50  117.00  13.60   8.35  0.1  191.0\n",
       "22   69.25  112.25  11.80   7.55  0.1  191.0"
      ]
     },
     "execution_count": 39,
     "metadata": {},
     "output_type": "execute_result"
    }
   ],
   "source": [
    "df.head()"
   ]
  },
  {
   "cell_type": "code",
   "execution_count": 9,
   "metadata": {},
   "outputs": [],
   "source": [
    "X = df.iloc[:,:-1].values\n",
    "y = df.iloc[:,-1].values"
   ]
  },
  {
   "cell_type": "code",
   "execution_count": 10,
   "metadata": {},
   "outputs": [],
   "source": [
    "from sklearn.model_selection import train_test_split\n",
    "X_train, X_test, y_train, y_test = train_test_split(X, y, test_size = 0.2, random_state = 0)"
   ]
  },
  {
   "cell_type": "code",
   "execution_count": 11,
   "metadata": {},
   "outputs": [
    {
     "data": {
      "text/plain": [
       "(40000,)"
      ]
     },
     "execution_count": 11,
     "metadata": {},
     "output_type": "execute_result"
    }
   ],
   "source": [
    "y_train.shape"
   ]
  },
  {
   "cell_type": "code",
   "execution_count": 12,
   "metadata": {},
   "outputs": [],
   "source": [
    "y_train = y_train.reshape(len(y_train),1)\n",
    "y_test = y_test.reshape(len(y_test),1)\n",
    "\n",
    "from sklearn.preprocessing import StandardScaler\n",
    "sc_X = StandardScaler()\n",
    "sc_y = StandardScaler()\n",
    "X_train = sc_X.fit_transform(X_train)\n",
    "X_test = sc_X.transform(X_test)\n",
    "y_train = sc_y.fit_transform(y_train)\n"
   ]
  },
  {
   "cell_type": "code",
   "execution_count": 22,
   "metadata": {},
   "outputs": [
    {
     "name": "stdout",
     "output_type": "stream",
     "text": [
      "For k =  1   3389.3911\n",
      "For k =  2   2580.466125\n",
      "For k =  3   2314.4140999999995\n",
      "For k =  4   2171.661975\n",
      "For k =  5   2111.798128\n",
      "For k =  6   2051.552333333333\n",
      "For k =  7   2019.5171530612245\n",
      "For k =  8   2009.5077265625\n",
      "For k =  9   1991.9868419753086\n",
      "For k =  10   1979.159046\n",
      "For k =  11   1972.501829752066\n",
      "For k =  12   1973.1548666666665\n",
      "For k =  13   1969.4976360946744\n",
      "For k =  14   1969.7097668367348\n",
      "For k =  15   1968.9473555555555\n",
      "For k =  16   1964.121466796875\n",
      "For k =  17   1962.4245660899653\n",
      "For k =  18   1960.9425314814816\n",
      "For k =  19   1965.1870908587255\n",
      "For k =  20   1961.5400802500003\n",
      "For k =  21   1963.0225671201813\n",
      "For k =  22   1959.2344700413223\n",
      "For k =  23   1962.7391901701324\n",
      "For k =  24   1960.6464026041667\n",
      "For k =  25   1957.7478116799998\n",
      "For k =  26   1957.774502218935\n",
      "For k =  27   1956.913339506173\n",
      "For k =  28   1959.127407015306\n",
      "For k =  29   1961.2125747919147\n",
      "For k =  30   1964.2777968888886\n",
      "For k =  31   1966.0365735691987\n",
      "For k =  32   1967.2646112304687\n",
      "For k =  33   1966.944026629936\n",
      "For k =  34   1969.7213503460207\n",
      "For k =  35   1970.305558367347\n",
      "For k =  36   1970.2575979938272\n",
      "For k =  37   1969.7582558071583\n",
      "For k =  38   1971.6661764542935\n",
      "For k =  39   1974.1765702169628\n",
      "For k =  40   1976.7236925\n",
      "For k =  41   1976.8265251041048\n",
      "For k =  42   1977.6835958616778\n",
      "For k =  43   1979.9475580854516\n",
      "For k =  44   1980.2921818698346\n",
      "For k =  45   1981.5590954567901\n",
      "For k =  46   1982.4599644139887\n",
      "For k =  47   1984.0305142145767\n",
      "For k =  48   1985.5735736979168\n",
      "For k =  49   1987.682376051645\n",
      "For k =  50   1991.4264016\n",
      "For k =  51   1992.649870319108\n",
      "For k =  52   1992.460526072485\n",
      "For k =  53   1994.448228479886\n",
      "For k =  54   1996.31824372428\n",
      "For k =  55   1996.5858312066116\n",
      "For k =  56   1997.4674624681122\n",
      "For k =  57   1998.3986918128655\n",
      "For k =  58   1996.8773497027348\n",
      "For k =  59   1998.6153298190177\n",
      "For k =  60   2000.9848951666663\n",
      "For k =  61   2002.454501531846\n",
      "For k =  62   2004.5492783558793\n",
      "For k =  63   2006.4681837742503\n",
      "For k =  64   2006.5641065917969\n",
      "For k =  65   2008.9030480000001\n",
      "For k =  66   2010.5611174471992\n",
      "For k =  67   2010.6501977723324\n",
      "For k =  68   2012.19732266436\n",
      "For k =  69   2014.5683835328714\n",
      "For k =  70   2015.1127959387757\n",
      "For k =  71   2015.6771587581827\n",
      "For k =  72   2016.60344375\n",
      "For k =  73   2017.4880167386\n",
      "For k =  74   2017.8174302775749\n",
      "For k =  75   2018.7903385422226\n",
      "For k =  76   2020.224287205679\n",
      "For k =  77   2020.889902681734\n",
      "For k =  78   2022.2931846153847\n",
      "For k =  79   2021.8710721679217\n"
     ]
    }
   ],
   "source": [
    "from sklearn.neighbors import KNeighborsRegressor\n",
    "error_rate = []\n",
    "# Will take some time\n",
    "for i in range(1,80):\n",
    " \n",
    " knn = KNeighborsRegressor(n_neighbors=i)\n",
    " knn.fit(X_train,y_train)\n",
    " pred_i = sc_y.inverse_transform(knn.predict(X_test))\n",
    " \n",
    " from sklearn.metrics import mean_squared_error\n",
    " a = mean_squared_error(y_test, pred_i)\n",
    " print('For k = ',i,\" \",a)\n",
    " error_rate.append(a)"
   ]
  },
  {
   "cell_type": "code",
   "execution_count": 20,
   "metadata": {},
   "outputs": [
    {
     "data": {
      "text/plain": [
       "Text(0, 0.5, 'Error Rate')"
      ]
     },
     "execution_count": 20,
     "metadata": {},
     "output_type": "execute_result"
    },
    {
     "data": {
      "image/png": "[encoded data removed]",
      "text/plain": [
       "<Figure size 720x432 with 1 Axes>"
      ]
     },
     "metadata": {
      "needs_background": "light"
     },
     "output_type": "display_data"
    }
   ],
   "source": [
    "import matplotlib.pyplot as plt\n",
    "plt.figure(figsize=(10,6))\n",
    "plt.plot(range(1,80),error_rate,color='blue', linestyle='dashed', marker='o',\n",
    " markerfacecolor='red', markersize=10)\n",
    "plt.title('Error vs. K Value')\n",
    "plt.xlabel('K')\n",
    "plt.ylabel('Error Rate')"
   ]
  },
  {
   "cell_type": "code",
   "execution_count": 34,
   "metadata": {},
   "outputs": [
    {
     "data": {
      "text/plain": [
       "KNeighborsRegressor(n_neighbors=28)"
      ]
     },
     "execution_count": 34,
     "metadata": {},
     "output_type": "execute_result"
    }
   ],
   "source": [
    "regressor = KNeighborsRegressor(n_neighbors =28 )\n",
    "regressor.fit(X_train, y_train)"
   ]
  },
  {
   "cell_type": "code",
   "execution_count": 35,
   "metadata": {},
   "outputs": [],
   "source": [
    "y_pred = sc_y.inverse_transform(regressor.predict(X_test))"
   ]
  },
  {
   "cell_type": "code",
   "execution_count": 36,
   "metadata": {},
   "outputs": [],
   "source": [
    "a = np.concatenate((y_pred.reshape(len(y_pred),1), y_test.reshape(len(y_test),1)),1)"
   ]
  },
  {
   "cell_type": "code",
   "execution_count": 37,
   "metadata": {},
   "outputs": [
    {
     "data": {
      "text/plain": [
       "0.7555077396576632"
      ]
     },
     "execution_count": 37,
     "metadata": {},
     "output_type": "execute_result"
    }
   ],
   "source": [
    "from sklearn.metrics import r2_score\n",
    "r2_score(y_test, y_pred)"
   ]
  },
  {
   "cell_type": "code",
   "execution_count": 38,
   "metadata": {},
   "outputs": [
    {
     "data": {
      "text/plain": [
       "1959.127407015306"
      ]
     },
     "execution_count": 38,
     "metadata": {},
     "output_type": "execute_result"
    }
   ],
   "source": [
    "from sklearn.metrics import mean_squared_error\n",
    "mean_squared_error(y_test, y_pred)"
   ]
  },
  {
   "cell_type": "code",
   "execution_count": null,
   "metadata": {},
   "outputs": [],
   "source": []
  },
  {
   "cell_type": "code",
   "execution_count": null,
   "metadata": {},
   "outputs": [],
   "source": []
  }
 ],
 "metadata": {
  "kernelspec": {
   "display_name": "Python 3",
   "language": "python",
   "name": "python3"
  },
  "language_info": {
   "codemirror_mode": {
    "name": "ipython",
    "version": 3
   },
   "file_extension": ".py",
   "mimetype": "text/x-python",
   "name": "python",
   "nbconvert_exporter": "python",
   "pygments_lexer": "ipython3",
   "version": "3.8.5"
  }
 },
 "nbformat": 4,
 "nbformat_minor": 4
}
